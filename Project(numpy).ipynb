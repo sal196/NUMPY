{
  "nbformat": 4,
  "nbformat_minor": 0,
  "metadata": {
    "colab": {
      "provenance": []
    },
    "kernelspec": {
      "name": "python3",
      "display_name": "Python 3"
    },
    "language_info": {
      "name": "python"
    }
  },
  "cells": [
    {
      "cell_type": "markdown",
      "source": [
        "# ORIGINAL DATA\n"
      ],
      "metadata": {
        "id": "q-9n4WU1cA1n"
      }
    },
    {
      "cell_type": "code",
      "source": [
        "import numpy as np\n",
        "arr=np.array([1,2,3,4,5,6,7,8])\n",
        "print(arr)"
      ],
      "metadata": {
        "colab": {
          "base_uri": "https://localhost:8080/"
        },
        "outputId": "0b44efba-3370-4952-e2bd-8e63600e1f51",
        "id": "YBt2LCNZ8PF1"
      },
      "execution_count": null,
      "outputs": [
        {
          "output_type": "stream",
          "name": "stdout",
          "text": [
            "[1 2 3 4 5 6 7 8]\n"
          ]
        }
      ]
    },
    {
      "cell_type": "markdown",
      "source": [
        "**COPY**"
      ],
      "metadata": {
        "id": "wTg5SC_QFvsJ"
      }
    },
    {
      "cell_type": "code",
      "source": [
        "import numpy as np"
      ],
      "metadata": {
        "id": "Y8BOhV04Fy8n"
      },
      "execution_count": null,
      "outputs": []
    },
    {
      "cell_type": "code",
      "source": [
        "arr1=np.array([1,2,4,5,6,7,8])"
      ],
      "metadata": {
        "id": "rXZLqjz2GD57"
      },
      "execution_count": null,
      "outputs": []
    },
    {
      "cell_type": "code",
      "source": [
        "arr1"
      ],
      "metadata": {
        "colab": {
          "base_uri": "https://localhost:8080/"
        },
        "id": "mS2B9AMqHEgV",
        "outputId": "5ab2c812-7990-4402-eb8e-d63b17b37130"
      },
      "execution_count": null,
      "outputs": [
        {
          "output_type": "execute_result",
          "data": {
            "text/plain": [
              "array([1, 2, 4, 5, 6, 7, 8])"
            ]
          },
          "metadata": {},
          "execution_count": 7
        }
      ]
    },
    {
      "cell_type": "markdown",
      "source": [
        "**SLICING**"
      ],
      "metadata": {
        "id": "eXWaaQm0dKul"
      }
    },
    {
      "cell_type": "code",
      "source": [
        "import numpy as np\n",
        "arr=[1,2,3,4,5,6,7,8]\n",
        "\n",
        "#print(arr)\n",
        "#print(arr[:3])\n",
        "#print(arr[0:])\n",
        "print(arr[6:9])\n",
        "print(arr[0:8:2])\n",
        "print(arr[-3:-1])\n",
        "\n",
        "\n"
      ],
      "metadata": {
        "colab": {
          "base_uri": "https://localhost:8080/"
        },
        "id": "CDamp1PFdR1_",
        "outputId": "82f98f5d-9e6b-4626-8e24-2f9cbea3af54"
      },
      "execution_count": null,
      "outputs": [
        {
          "output_type": "stream",
          "name": "stdout",
          "text": [
            "[7, 8]\n",
            "[1, 3, 5, 7]\n",
            "[6, 7]\n"
          ]
        }
      ]
    },
    {
      "cell_type": "markdown",
      "source": [
        "**SORTING DATAS**"
      ],
      "metadata": {
        "id": "vzuLsZcJsIHJ"
      }
    },
    {
      "cell_type": "code",
      "source": [
        "import numpy as np\n",
        "arr=np.array([[1,2,3,4],[5,6,7,8]])\n",
        "print ('original array =',arr)\n",
        "\n",
        "sortedarr=np.sort(arr)\n",
        "print ('sorted array=',sortedarr)\n"
      ],
      "metadata": {
        "colab": {
          "base_uri": "https://localhost:8080/"
        },
        "id": "exVCunx7A_iT",
        "outputId": "e6362ee8-57fc-49d2-bf9a-647e3f9e483a"
      },
      "execution_count": null,
      "outputs": [
        {
          "output_type": "stream",
          "name": "stdout",
          "text": [
            "original array = [[1 2 3 4]\n",
            " [5 6 7 8]]\n",
            "sorted array= [[1 2 3 4]\n",
            " [5 6 7 8]]\n"
          ]
        }
      ]
    },
    {
      "cell_type": "markdown",
      "source": [
        "JOINING DATAS\n",
        "\n",
        "\n"
      ],
      "metadata": {
        "id": "z20-c5lmygCo"
      }
    },
    {
      "cell_type": "code",
      "source": [
        "import numpy as np\n",
        "arr_1=np.array([1,2,3,4])\n",
        "arr_2=np.array([5,6,7,8])\n",
        "print(arr_1)\n",
        "print(arr_2)\n",
        "arr=np.concatenate((arr_1,arr_2))\n",
        "print(arr)"
      ],
      "metadata": {
        "id": "EnixdOZozDQa",
        "colab": {
          "base_uri": "https://localhost:8080/"
        },
        "outputId": "f190b70e-b7f1-4108-b6e3-0ee36d35ccde"
      },
      "execution_count": null,
      "outputs": [
        {
          "output_type": "stream",
          "name": "stdout",
          "text": [
            "[1 2 3 4]\n",
            "[5 6 7 8]\n",
            "[1 2 3 4 5 6 7 8]\n"
          ]
        }
      ]
    },
    {
      "cell_type": "markdown",
      "source": [
        "SPLITING DATAS"
      ],
      "metadata": {
        "id": "1PrH_CTiBdJG"
      }
    },
    {
      "cell_type": "code",
      "source": [
        "import numpy as np\n",
        "arr=np.array([1,2,3,4,5,6,7,8])\n",
        "print(arr)\n",
        "new_arr=np.array_split(arr,3)\n",
        "print(new_arr)"
      ],
      "metadata": {
        "colab": {
          "base_uri": "https://localhost:8080/"
        },
        "id": "JmMGsLMOBoD9",
        "outputId": "e1eab79f-ab3e-4e2e-df51-79d3d35f0a8c"
      },
      "execution_count": null,
      "outputs": [
        {
          "output_type": "stream",
          "name": "stdout",
          "text": [
            "[1 2 3 4 5 6 7 8]\n",
            "[array([1, 2, 3]), array([4, 5, 6]), array([7, 8])]\n"
          ]
        }
      ]
    },
    {
      "cell_type": "markdown",
      "source": [
        "FILTERING DATAS"
      ],
      "metadata": {
        "id": "qetWY1oeEuQm"
      }
    },
    {
      "cell_type": "code",
      "source": [
        "arr=np.array([1,2,3,4,5,6,7,8])\n",
        "print(\"Original Array=\",arr)\n",
        "bl=arr>4\n",
        "newarr=arr[bl]\n",
        "print (\"Filtered Array= \",newarr)\n"
      ],
      "metadata": {
        "colab": {
          "base_uri": "https://localhost:8080/"
        },
        "id": "MiomnxzSE8aj",
        "outputId": "2a36481e-12b9-423c-bebc-a67244a41b2e"
      },
      "execution_count": null,
      "outputs": [
        {
          "output_type": "stream",
          "name": "stdout",
          "text": [
            "Original Array= [1 2 3 4 5 6 7 8]\n",
            "Filtered Array=  [5 6 7 8]\n"
          ]
        }
      ]
    },
    {
      "cell_type": "markdown",
      "source": [
        "**SHAPING OF AN ARRAY**"
      ],
      "metadata": {
        "id": "MeS4AlrJJEnA"
      }
    },
    {
      "cell_type": "code",
      "source": [
        "import numpy as np\n",
        "arr=np.array([[[1,2],[3,4],[5,6],[7,8]]])\n",
        "print(arr.shape)"
      ],
      "metadata": {
        "colab": {
          "base_uri": "https://localhost:8080/"
        },
        "id": "v8FMRY_rSt4R",
        "outputId": "71bf90c2-7862-41d4-b3d8-6d5e061eba99"
      },
      "execution_count": null,
      "outputs": [
        {
          "output_type": "stream",
          "name": "stdout",
          "text": [
            "(1, 4, 2)\n"
          ]
        }
      ]
    },
    {
      "cell_type": "markdown",
      "source": [
        "**RESHAPING**"
      ],
      "metadata": {
        "id": "MEsiqyneaEZ5"
      }
    },
    {
      "cell_type": "code",
      "source": [
        "import numpy as np\n",
        "arr1= np.array([1,2,3,4,5,6,7,8])\n",
        "print(arr1)\n",
        "arr2=arr1.reshape(4,2)\n",
        "print(arr2)\n"
      ],
      "metadata": {
        "id": "GRmkVTXHVnf2",
        "colab": {
          "base_uri": "https://localhost:8080/"
        },
        "outputId": "c0458b37-71ea-4d2c-9d61-c690f407aeda"
      },
      "execution_count": null,
      "outputs": [
        {
          "output_type": "stream",
          "name": "stdout",
          "text": [
            "[1 2 3 4 5 6 7 8]\n",
            "[[1 2]\n",
            " [3 4]\n",
            " [5 6]\n",
            " [7 8]]\n"
          ]
        }
      ]
    },
    {
      "cell_type": "code",
      "source": [
        "import numpy as np\n",
        "arr1= np.array([1,2,3,4,5,6,7,8])\n",
        "arrn=arr1.reshape(2,-1)\n",
        "print(arrn)\n"
      ],
      "metadata": {
        "colab": {
          "base_uri": "https://localhost:8080/"
        },
        "outputId": "d13fd583-4189-460d-ae51-ff95337d5ad6",
        "id": "oGsPkhD8HTPt"
      },
      "execution_count": null,
      "outputs": [
        {
          "output_type": "stream",
          "name": "stdout",
          "text": [
            "[[1 2 3 4]\n",
            " [5 6 7 8]]\n"
          ]
        }
      ]
    },
    {
      "cell_type": "markdown",
      "source": [
        "**VISULIZING USING NUMPY**"
      ],
      "metadata": {
        "id": "N1lnmqrEd3ux"
      }
    },
    {
      "cell_type": "code",
      "source": [
        "import matplotlib.pyplot as plt\n",
        "%matplotlib inline \n",
        "import numpy as np\n",
        "x=np.linspace(2,4,6,8)\n",
        "y=x**2\n",
        "plt.plot(x,y,marker='o',markerfacecolor='red')\n",
        "plt.xlabel('Teperature')\n",
        "plt.ylabel('Time')\n",
        "plt.title('speed')\n"
      ],
      "metadata": {
        "id": "_CE49KMaeMk3",
        "colab": {
          "base_uri": "https://localhost:8080/",
          "height": 313
        },
        "outputId": "e3353a3c-6a2b-45ea-fbe9-a289035bf57e"
      },
      "execution_count": null,
      "outputs": [
        {
          "output_type": "execute_result",
          "data": {
            "text/plain": [
              "Text(0.5, 1.0, 'speed')"
            ]
          },
          "metadata": {},
          "execution_count": 2
        },
        {
          "output_type": "display_data",
          "data": {
            "text/plain": [
              "<Figure size 432x288 with 1 Axes>"
            ],
            "image/png": "[encoded data removed]"
          },
          "metadata": {
            "needs_background": "light"
          }
        }
      ]
    }
  ]
}